{
 "cells": [
  {
   "cell_type": "code",
   "execution_count": null,
   "id": "5d1f522f",
   "metadata": {},
   "outputs": [],
   "source": [
    "# Import necessary packages\n",
    "import numpy as np\n",
    "from PIL import Image"
   ]
  },
  {
   "cell_type": "code",
   "execution_count": null,
   "id": "8cd1c584",
   "metadata": {},
   "outputs": [],
   "source": [
    "# Load image and convert to RGB\n",
    "\n",
    "# creates an image object\n",
    "img = Image.open('images/girlWithPearlEarring.jpeg')\n",
    "\n",
    "# shape 2500*2112*3 = 15.840.000\n",
    "arr = np.array(img)\n",
    "# arr.dtype 'uint8'"
   ]
  },
  {
   "cell_type": "code",
   "execution_count": 70,
   "id": "206cb50e",
   "metadata": {},
   "outputs": [
    {
     "name": "stdout",
     "output_type": "stream",
     "text": [
      "After the convolution the image will have height 1249 and width 1055.\n",
      "0\n",
      "100\n",
      "200\n",
      "300\n",
      "400\n",
      "500\n",
      "600\n",
      "700\n",
      "800\n",
      "900\n",
      "1000\n",
      "1100\n",
      "1200\n",
      "1300\n"
     ]
    },
    {
     "ename": "KeyboardInterrupt",
     "evalue": "",
     "output_type": "error",
     "traceback": [
      "\u001b[31m---------------------------------------------------------------------------\u001b[39m",
      "\u001b[31mKeyboardInterrupt\u001b[39m                         Traceback (most recent call last)",
      "\u001b[36mCell\u001b[39m\u001b[36m \u001b[39m\u001b[32mIn[70]\u001b[39m\u001b[32m, line 34\u001b[39m\n\u001b[32m     32\u001b[39m     img_part_sobel = img_part * sobel_x_rgb\n\u001b[32m     33\u001b[39m     sums = np.sum(img_part_sobel, axis=(\u001b[32m0\u001b[39m,\u001b[32m1\u001b[39m))\n\u001b[32m---> \u001b[39m\u001b[32m34\u001b[39m     img_out = \u001b[43mnp\u001b[49m\u001b[43m.\u001b[49m\u001b[43mappend\u001b[49m\u001b[43m(\u001b[49m\u001b[43mimg_out\u001b[49m\u001b[43m,\u001b[49m\u001b[43m \u001b[49m\u001b[43msums\u001b[49m\u001b[43m)\u001b[49m\n\u001b[32m     36\u001b[39m     h += s\n\u001b[32m     37\u001b[39m \u001b[38;5;28;01mif\u001b[39;00m w% \u001b[32m100\u001b[39m == \u001b[32m0\u001b[39m:\n",
      "\u001b[36mFile \u001b[39m\u001b[32mc:\\Users\\DB676EB\\Projects\\ML\\Learning\\MLvenv\\Lib\\site-packages\\numpy\\lib\\_function_base_impl.py:5692\u001b[39m, in \u001b[36mappend\u001b[39m\u001b[34m(arr, values, axis)\u001b[39m\n\u001b[32m   5690\u001b[39m     values = ravel(values)\n\u001b[32m   5691\u001b[39m     axis = arr.ndim-\u001b[32m1\u001b[39m\n\u001b[32m-> \u001b[39m\u001b[32m5692\u001b[39m \u001b[38;5;28;01mreturn\u001b[39;00m \u001b[43mconcatenate\u001b[49m\u001b[43m(\u001b[49m\u001b[43m(\u001b[49m\u001b[43marr\u001b[49m\u001b[43m,\u001b[49m\u001b[43m \u001b[49m\u001b[43mvalues\u001b[49m\u001b[43m)\u001b[49m\u001b[43m,\u001b[49m\u001b[43m \u001b[49m\u001b[43maxis\u001b[49m\u001b[43m=\u001b[49m\u001b[43maxis\u001b[49m\u001b[43m)\u001b[49m\n",
      "\u001b[31mKeyboardInterrupt\u001b[39m: "
     ]
    }
   ],
   "source": [
    "## First brainstorming very slow version improvements in the next\n",
    "\n",
    "n_h = arr.shape[0]\n",
    "n_w = arr.shape[1]\n",
    "\n",
    "# filter parameters\n",
    "f = 3 # width and height\n",
    "p = 0 # padding\n",
    "s = 2 # stride \n",
    "\n",
    "# output dimensions\n",
    "n_h_out = np.uint16(np.floor((n_h + 2 * p - f)/s +1))\n",
    "n_w_out = np.uint16(np.floor((n_w + 2 * p - f)/s +1))\n",
    "print(f\"After the convolution the image will have height {n_h_out} and width {n_w_out}.\")\n",
    "\n",
    "# handle padding\n",
    "if p != 0:\n",
    "    arr_p = np.zeros((n_h + 2*p, n_w + 2*p, 3), dtype=np.uint8)\n",
    "    arr_p[p:n_h+p, p:n_w+p] = arr\n",
    "    arr = arr_p\n",
    "    n_h = arr.shape[0]\n",
    "    n_w = arr.shape[1]\n",
    "\n",
    "# choose filter to be used\n",
    "sobel_x_rgb = np.array([\n",
    "    [[-1, -1, -1], [0, 0, 0], [1, 1, 1]],\n",
    "    [[-2, -2, -2], [0, 0, 0], [2, 2, 2]],\n",
    "    [[-1, -1, -1], [0, 0, 0], [1, 1, 1]]\n",
    "], dtype=np.int8)\n",
    "\n",
    "img_out = np.array([], dtype=np.uint8)\n",
    "\n",
    "w = 0\n",
    "while w + f - 1 < arr.shape[1] - 1:\n",
    "     \n",
    "    h = 0 \n",
    "    while h + f - 1 < arr.shape[0] -1:\n",
    "        \n",
    "        img_part = arr[h:h+f,w:w+f,:]\n",
    "        img_part_sobel = img_part * sobel_x_rgb\n",
    "        sums = np.sum(img_part_sobel, axis=(0,1))\n",
    "        img_out = np.append(img_out, sums)\n",
    "\n",
    "        h += s\n",
    "    if w% 100 == 0:\n",
    "        print(w)\n",
    "    w += s "
   ]
  },
  {
   "cell_type": "code",
   "execution_count": null,
   "id": "90f2f7c2",
   "metadata": {},
   "outputs": [
    {
     "data": {
      "text/plain": [
       "np.int64(17)"
      ]
     },
     "execution_count": 65,
     "metadata": {},
     "output_type": "execute_result"
    }
   ],
   "source": [
    "img_out.shape"
   ]
  },
  {
   "cell_type": "code",
   "execution_count": null,
   "id": "bb4bbde4",
   "metadata": {},
   "outputs": [],
   "source": [
    "img_part_filtered = Image.fromarray(img_out)"
   ]
  },
  {
   "cell_type": "code",
   "execution_count": null,
   "id": "942dc91a",
   "metadata": {},
   "outputs": [],
   "source": [
    "img_out"
   ]
  },
  {
   "cell_type": "code",
   "execution_count": null,
   "id": "0e7acf33",
   "metadata": {},
   "outputs": [],
   "source": []
  }
 ],
 "metadata": {
  "kernelspec": {
   "display_name": "MLvenv",
   "language": "python",
   "name": "python3"
  },
  "language_info": {
   "codemirror_mode": {
    "name": "ipython",
    "version": 3
   },
   "file_extension": ".py",
   "mimetype": "text/x-python",
   "name": "python",
   "nbconvert_exporter": "python",
   "pygments_lexer": "ipython3",
   "version": "3.11.0"
  }
 },
 "nbformat": 4,
 "nbformat_minor": 5
}
