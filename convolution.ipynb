{
 "cells": [
  {
   "cell_type": "code",
   "execution_count": 1,
   "id": "5d1f522f",
   "metadata": {},
   "outputs": [],
   "source": [
    "# Import necessary packages\n",
    "import numpy as np\n",
    "from PIL import Image"
   ]
  },
  {
   "cell_type": "code",
   "execution_count": 11,
   "id": "8cd1c584",
   "metadata": {},
   "outputs": [],
   "source": [
    "# Load image and convert to RGB\n",
    "\n",
    "# creates an image object\n",
    "img = Image.open('images/girlWithPearlEarring.jpeg')\n",
    "\n",
    "# shape 2500*2112*3 = 15.840.000\n",
    "arr = np.array(img)"
   ]
  },
  {
   "cell_type": "code",
   "execution_count": 21,
   "id": "a1fe3a11",
   "metadata": {},
   "outputs": [
    {
     "data": {
      "text/plain": [
       "15.84"
      ]
     },
     "execution_count": 21,
     "metadata": {},
     "output_type": "execute_result"
    }
   ],
   "source": [
    "arr.dtype\n",
    "# check memory size of arr\n",
    "arr.nbytes/1000000"
   ]
  },
  {
   "cell_type": "code",
   "execution_count": 22,
   "id": "17f4721f",
   "metadata": {},
   "outputs": [
    {
     "data": {
      "text/plain": [
       "126.72"
      ]
     },
     "execution_count": 22,
     "metadata": {},
     "output_type": "execute_result"
    }
   ],
   "source": [
    "arr_2 = np.array(arr, dtype = np.int64)\n",
    "arr_2.nbytes/1000000"
   ]
  },
  {
   "cell_type": "code",
   "execution_count": null,
   "id": "9b5fff2e",
   "metadata": {},
   "outputs": [],
   "source": [
    "\n",
    "img_h = arr.shape[0]\n",
    "img_w = arr.shape[1]\n",
    "\n",
    "# filter parameters\n",
    "\n",
    "f = 3 # width and height\n",
    "p = 2 # padding\n",
    "s = 1 # stride \n",
    "\n",
    "# handle padding\n",
    "if p != 0:\n",
    "    arr_p = np.zeros((img_h + 2*p, img_w + 2*p, 3), dtype=np.uint8)\n",
    "    arr_p[p:img_h+p, p:img_w+p] = arr\n",
    "    arr = arr_p\n",
    "    img_h = arr.shape[0]\n",
    "    img_w = arr.shape[1]\n",
    "\n",
    "\n"
   ]
  },
  {
   "cell_type": "code",
   "execution_count": null,
   "id": "82d96c30",
   "metadata": {},
   "outputs": [],
   "source": []
  }
 ],
 "metadata": {
  "kernelspec": {
   "display_name": "MLvenv",
   "language": "python",
   "name": "python3"
  },
  "language_info": {
   "codemirror_mode": {
    "name": "ipython",
    "version": 3
   },
   "file_extension": ".py",
   "mimetype": "text/x-python",
   "name": "python",
   "nbconvert_exporter": "python",
   "pygments_lexer": "ipython3",
   "version": "3.11.0"
  }
 },
 "nbformat": 4,
 "nbformat_minor": 5
}
