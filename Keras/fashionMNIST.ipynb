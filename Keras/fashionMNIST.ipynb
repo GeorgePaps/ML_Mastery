{
 "cells": [
  {
   "cell_type": "markdown",
   "id": "f02e4022",
   "metadata": {},
   "source": [
    "# Classify Fashion Items \n",
    "\n",
    "Using Keras and the Fashion-MNIST Dataset\n",
    "\n",
    "We will use a neural network to classify closing items from grayscale 28x28 pixel images. The dataset is Fashion-MNIST, a more challenging and modern alternative to classic MNIST digits. It has become one of the most popular \"hello-world\" problem datasets for vision recognition."
   ]
  },
  {
   "cell_type": "markdown",
   "id": "948ef622",
   "metadata": {},
   "source": [
    "### Code"
   ]
  },
  {
   "cell_type": "markdown",
   "id": "96cbabc0",
   "metadata": {},
   "source": [
    "#### Import necessary libraries"
   ]
  },
  {
   "cell_type": "code",
   "execution_count": 4,
   "id": "78f9d41d",
   "metadata": {},
   "outputs": [],
   "source": [
    "import numpy as np\n",
    "import matplotlib.pyplot as plt\n",
    "import tensorflow as tf\n",
    "from tensorflow import keras\n",
    "from tensorflow.keras import layers"
   ]
  },
  {
   "cell_type": "markdown",
   "id": "4ad91b8d",
   "metadata": {},
   "source": [
    "#### 1. Load and Normalize the Data\n",
    "\n",
    "The Fashion-MNIST dataset consists of 70,000 grayscale \n",
    "images of clothing items, each 28x28 pixels.\n",
    "It is divided into a training set of 60,000 images \n",
    "and a test set of 10,000 images.\n",
    "Each image is labeled with one of 10 classes: \n",
    "T-shirt/top, Trouser, Pullover, Dress, Coat, \n",
    "Sandal, Shirt, Sneaker, Bag, Ankle boot.\n",
    "The dataset is available directly from Keras."
   ]
  },
  {
   "cell_type": "code",
   "execution_count": 2,
   "id": "10fd303b",
   "metadata": {},
   "outputs": [
    {
     "name": "stdout",
     "output_type": "stream",
     "text": [
      "Downloading data from https://storage.googleapis.com/tensorflow/tf-keras-datasets/train-labels-idx1-ubyte.gz\n",
      "\u001b[1m29515/29515\u001b[0m \u001b[32m━━━━━━━━━━━━━━━━━━━━\u001b[0m\u001b[37m\u001b[0m \u001b[1m0s\u001b[0m 1us/step\n",
      "Downloading data from https://storage.googleapis.com/tensorflow/tf-keras-datasets/train-images-idx3-ubyte.gz\n",
      "\u001b[1m26421880/26421880\u001b[0m \u001b[32m━━━━━━━━━━━━━━━━━━━━\u001b[0m\u001b[37m\u001b[0m \u001b[1m11s\u001b[0m 0us/step\n",
      "Downloading data from https://storage.googleapis.com/tensorflow/tf-keras-datasets/t10k-labels-idx1-ubyte.gz\n",
      "\u001b[1m5148/5148\u001b[0m \u001b[32m━━━━━━━━━━━━━━━━━━━━\u001b[0m\u001b[37m\u001b[0m \u001b[1m0s\u001b[0m 13us/step\n",
      "Downloading data from https://storage.googleapis.com/tensorflow/tf-keras-datasets/t10k-images-idx3-ubyte.gz\n",
      "\u001b[1m4422102/4422102\u001b[0m \u001b[32m━━━━━━━━━━━━━━━━━━━━\u001b[0m\u001b[37m\u001b[0m \u001b[1m2s\u001b[0m 1us/step\n"
     ]
    }
   ],
   "source": [
    "\n",
    "# Step 1: Load the Fashion-MNIST dataset\n",
    "\n",
    "(train_images, train_labels), (test_images, test_labels) = keras.datasets.fashion_mnist.load_data()\n",
    "\n",
    "# Normalize the images to a range of 0 to 1\n",
    "train_images = train_images.astype(\"float32\") / 255.0\n",
    "test_images = test_images.astype(\"float32\") / 255.0"
   ]
  },
  {
   "cell_type": "markdown",
   "id": "74c75dd6",
   "metadata": {},
   "source": [
    "#### 2. Define the class names"
   ]
  },
  {
   "cell_type": "code",
   "execution_count": 5,
   "id": "ea945a4c",
   "metadata": {},
   "outputs": [],
   "source": [
    "# Step 2: Define the class names\n",
    "class_names = ['T-shirt/top', 'Trouser', 'Pullover', 'Dress', 'Coat', \n",
    "               'Sandal', 'Shirt', 'Sneaker', 'Bag', 'Ankle boot']"
   ]
  },
  {
   "cell_type": "markdown",
   "id": "d777fbe6",
   "metadata": {},
   "source": [
    "#### 3. Build the model\n",
    "\n",
    "A simple feedforward neural network model using Keras\n",
    "The model consists of:\n",
    "- a flattening layer\n",
    "- a dense layer with ReLU activation\n",
    "- a dropout layer for regularization (randomly mutes the output of a percentage of layers)\n",
    "- an output layer with softmax activation for multi-class classification.\n"
   ]
  },
  {
   "cell_type": "code",
   "execution_count": 57,
   "id": "2b7b52bc",
   "metadata": {},
   "outputs": [],
   "source": [
    "# Step 3: Build the model\n",
    "\n",
    "model = keras.Sequential([\n",
    "    keras.Input(shape=(28, 28)),                 # Define input shape explicitly\n",
    "    layers.Flatten(),                            # Flatten the 2D images to 1D vectors   \n",
    "    layers.Dense(128, activation='relu'),        # Fully connected layer with 128 neurons\n",
    "    layers.Dense(64,  activation='relu'),        # Fully connected layer with 64 neurons\n",
    "    layers.Dense(32,  activation='relu'),        # Fully connected layer with 64 neurons\n",
    "    layers.Dropout(0.1),                         # Dropout regularization\n",
    "    layers.Dense(10, activation='softmax')       # Output layer for 10 classes\n",
    "])"
   ]
  },
  {
   "cell_type": "markdown",
   "id": "77320e00",
   "metadata": {},
   "source": [
    "#### 4. Compile the model\n",
    "\n",
    "The model is compiled with an optimizer, loss function, and metrics to track during training. The optimizer is 'adam', which is a popular choice for training neural networks. The loss function is 'sparse_categorical_crossentropy', suitable for multi-class classification with integer labels. The metric 'accuracy' is used to evaluate the model's performance during training and testing.  "
   ]
  },
  {
   "cell_type": "code",
   "execution_count": 58,
   "id": "5d91e922",
   "metadata": {},
   "outputs": [],
   "source": [
    "# Step 4: Compile the model\n",
    "\n",
    "model.compile(\n",
    "    optimizer='adam',                           # Optimizer to update weights\n",
    "    loss='sparse_categorical_crossentropy',     # Loss function for integer labels\n",
    "    metrics=['accuracy']                        # Report accuracy during training\n",
    ")"
   ]
  },
  {
   "cell_type": "markdown",
   "id": "8e34701a",
   "metadata": {},
   "source": [
    "#### 5. Train the model"
   ]
  },
  {
   "cell_type": "code",
   "execution_count": 59,
   "id": "1088e83e",
   "metadata": {},
   "outputs": [
    {
     "name": "stdout",
     "output_type": "stream",
     "text": [
      "Epoch 1/10\n",
      "\u001b[1m1688/1688\u001b[0m \u001b[32m━━━━━━━━━━━━━━━━━━━━\u001b[0m\u001b[37m\u001b[0m \u001b[1m5s\u001b[0m 2ms/step - accuracy: 0.4855 - loss: 4.8155 - val_accuracy: 0.7418 - val_loss: 0.7610\n",
      "Epoch 2/10\n",
      "\u001b[1m1688/1688\u001b[0m \u001b[32m━━━━━━━━━━━━━━━━━━━━\u001b[0m\u001b[37m\u001b[0m \u001b[1m5s\u001b[0m 3ms/step - accuracy: 0.7055 - loss: 0.8060 - val_accuracy: 0.7720 - val_loss: 0.6362\n",
      "Epoch 3/10\n",
      "\u001b[1m1688/1688\u001b[0m \u001b[32m━━━━━━━━━━━━━━━━━━━━\u001b[0m\u001b[37m\u001b[0m \u001b[1m6s\u001b[0m 3ms/step - accuracy: 0.7662 - loss: 0.6629 - val_accuracy: 0.8188 - val_loss: 0.6579\n",
      "Epoch 4/10\n",
      "\u001b[1m1688/1688\u001b[0m \u001b[32m━━━━━━━━━━━━━━━━━━━━\u001b[0m\u001b[37m\u001b[0m \u001b[1m5s\u001b[0m 3ms/step - accuracy: 0.7916 - loss: 0.5846 - val_accuracy: 0.8250 - val_loss: 0.5207\n",
      "Epoch 5/10\n",
      "\u001b[1m1688/1688\u001b[0m \u001b[32m━━━━━━━━━━━━━━━━━━━━\u001b[0m\u001b[37m\u001b[0m \u001b[1m5s\u001b[0m 3ms/step - accuracy: 0.8124 - loss: 0.5227 - val_accuracy: 0.8538 - val_loss: 0.4143\n",
      "Epoch 6/10\n",
      "\u001b[1m1688/1688\u001b[0m \u001b[32m━━━━━━━━━━━━━━━━━━━━\u001b[0m\u001b[37m\u001b[0m \u001b[1m5s\u001b[0m 3ms/step - accuracy: 0.8278 - loss: 0.4802 - val_accuracy: 0.8530 - val_loss: 0.4435\n",
      "Epoch 7/10\n",
      "\u001b[1m1688/1688\u001b[0m \u001b[32m━━━━━━━━━━━━━━━━━━━━\u001b[0m\u001b[37m\u001b[0m \u001b[1m5s\u001b[0m 3ms/step - accuracy: 0.8436 - loss: 0.4430 - val_accuracy: 0.8587 - val_loss: 0.4073\n",
      "Epoch 8/10\n",
      "\u001b[1m1688/1688\u001b[0m \u001b[32m━━━━━━━━━━━━━━━━━━━━\u001b[0m\u001b[37m\u001b[0m \u001b[1m5s\u001b[0m 3ms/step - accuracy: 0.8482 - loss: 0.4241 - val_accuracy: 0.8345 - val_loss: 0.4699\n",
      "Epoch 9/10\n",
      "\u001b[1m1688/1688\u001b[0m \u001b[32m━━━━━━━━━━━━━━━━━━━━\u001b[0m\u001b[37m\u001b[0m \u001b[1m5s\u001b[0m 3ms/step - accuracy: 0.8552 - loss: 0.4046 - val_accuracy: 0.8563 - val_loss: 0.4293\n",
      "Epoch 10/10\n",
      "\u001b[1m1688/1688\u001b[0m \u001b[32m━━━━━━━━━━━━━━━━━━━━\u001b[0m\u001b[37m\u001b[0m \u001b[1m5s\u001b[0m 3ms/step - accuracy: 0.8626 - loss: 0.3873 - val_accuracy: 0.8725 - val_loss: 0.3913\n"
     ]
    },
    {
     "data": {
      "text/plain": [
       "<keras.src.callbacks.history.History at 0x1facc074850>"
      ]
     },
     "execution_count": 59,
     "metadata": {},
     "output_type": "execute_result"
    }
   ],
   "source": [
    "# Step 5: Train the model\n",
    "model.fit(train_images, train_labels, epochs=10, validation_split=0.1)"
   ]
  },
  {
   "cell_type": "markdown",
   "id": "5c6e77a5",
   "metadata": {},
   "source": [
    "#### 6. Evaluate Model"
   ]
  },
  {
   "cell_type": "code",
   "execution_count": 60,
   "id": "5bbdac98",
   "metadata": {},
   "outputs": [
    {
     "name": "stdout",
     "output_type": "stream",
     "text": [
      "\u001b[1m313/313\u001b[0m \u001b[32m━━━━━━━━━━━━━━━━━━━━\u001b[0m\u001b[37m\u001b[0m \u001b[1m0s\u001b[0m 1ms/step - accuracy: 0.8589 - loss: 0.4147\n",
      "\n",
      "Test accuracy: 0.8593999743461609\n"
     ]
    }
   ],
   "source": [
    "# Step 6: Evaluate on test data\n",
    "test_loss, test_acc = model.evaluate(test_images, test_labels)\n",
    "print(\"\\nTest accuracy:\", test_acc)"
   ]
  },
  {
   "cell_type": "markdown",
   "id": "2b6b8b39",
   "metadata": {},
   "source": [
    "#### 7. Predictions"
   ]
  },
  {
   "cell_type": "code",
   "execution_count": 61,
   "id": "ff5c92e6",
   "metadata": {},
   "outputs": [
    {
     "name": "stdout",
     "output_type": "stream",
     "text": [
      "\u001b[1m313/313\u001b[0m \u001b[32m━━━━━━━━━━━━━━━━━━━━\u001b[0m\u001b[37m\u001b[0m \u001b[1m0s\u001b[0m 946us/step\n"
     ]
    }
   ],
   "source": [
    "\n",
    "# Step 7: Make predictions\n",
    "predictions = model.predict(test_images)"
   ]
  },
  {
   "cell_type": "code",
   "execution_count": 66,
   "id": "08075eb1",
   "metadata": {},
   "outputs": [
    {
     "data": {
      "image/png": "[encoded data removed]",
      "text/plain": [
       "<Figure size 640x480 with 1 Axes>"
      ]
     },
     "metadata": {},
     "output_type": "display_data"
    }
   ],
   "source": [
    "# Show example prediction\n",
    "i = 5\n",
    "plt.imshow(test_images[i], cmap=plt.cm.binary)\n",
    "plt.title(f\"Prediction: {class_names[np.argmax(predictions[i])]}\")\n",
    "plt.show()"
   ]
  },
  {
   "cell_type": "code",
   "execution_count": null,
   "id": "82f1528f",
   "metadata": {},
   "outputs": [],
   "source": []
  }
 ],
 "metadata": {
  "kernelspec": {
   "display_name": "MLvenv",
   "language": "python",
   "name": "python3"
  },
  "language_info": {
   "codemirror_mode": {
    "name": "ipython",
    "version": 3
   },
   "file_extension": ".py",
   "mimetype": "text/x-python",
   "name": "python",
   "nbconvert_exporter": "python",
   "pygments_lexer": "ipython3",
   "version": "3.11.0"
  }
 },
 "nbformat": 4,
 "nbformat_minor": 5
}
