{
 "cells": [
  {
   "cell_type": "markdown",
   "id": "129265ed",
   "metadata": {},
   "source": [
    "# Convolutional Nets - CIFAR 10 dataset\n",
    "\n",
    "In this exercise I will gradually build a convolutional net for the CIFAR 10 datasets.\n",
    "\n",
    "I will explore how adding additional layers or modifying the existing ones\n",
    "affects the model accuracy. \n",
    "\n",
    "I will focus mostly on the neural net architecture and the model's hyperparameters\n",
    "and not on the training parameters.  "
   ]
  },
  {
   "cell_type": "code",
   "execution_count": 2,
   "id": "5b628acd",
   "metadata": {},
   "outputs": [
    {
     "name": "stdout",
     "output_type": "stream",
     "text": [
      "Downloading data from https://www.cs.toronto.edu/~kriz/cifar-10-python.tar.gz\n",
      "\u001b[1m170498071/170498071\u001b[0m \u001b[32m━━━━━━━━━━━━━━━━━━━━\u001b[0m\u001b[37m\u001b[0m \u001b[1m166s\u001b[0m 1us/step\n"
     ]
    }
   ],
   "source": [
    "import tensorflow as tf\n",
    "from tensorflow.keras import layers, models # type: ignore\n",
    "from tensorflow.keras.datasets import cifar10 # type: ignore\n",
    "import matplotlib.pyplot as plt\n",
    "\n",
    "# Load and preprocess the dataset\n",
    "# CIFAR-10 dataset consists of 60,000 32x32 color images in 10 classes, with 6,000 images per class.\n",
    "# The dataset is divided into 50,000 training images and 10,000 test images.\n",
    "# The classes are: airplane, automobile, bird, cat, deer, dog, frog, horse, ship, truck.\n",
    "# The images are represented as 32x32 pixel arrays with 3 color channels (RGB).\n",
    "\n",
    "(x_train, y_train), (x_test, y_test) = cifar10.load_data()\n",
    "x_train, x_test = x_train / 255.0, x_test / 255.0  # Normalize pixel values\n"
   ]
  },
  {
   "cell_type": "code",
   "execution_count": 27,
   "id": "7f834f74",
   "metadata": {
    "vscode": {
     "languageId": "ruby"
    }
   },
   "outputs": [
    {
     "data": {
      "image/png": "[encoded data removed]",
      "text/plain": [
       "<Figure size 640x480 with 1 Axes>"
      ]
     },
     "metadata": {},
     "output_type": "display_data"
    }
   ],
   "source": [
    "# Let's visualize some of the training images\n",
    "# Of course they are not very clear due to their small size, but they are representative of the dataset.\n",
    "\n",
    "class_names = [\n",
    "    'airplane', 'automobile', 'bird', 'cat', 'deer',    \n",
    "    'dog', 'frog', 'horse', 'ship', 'truck'\n",
    "]\n",
    "i = 18  # Index of the image to display\n",
    "plt.imshow(x_train[i])\n",
    "plt.title(f\"Label: {class_names[y_train[i][0]]}\")\n",
    "plt.axis('off')\n",
    "plt.tight_layout()\n",
    "plt.show()"
   ]
  },
  {
   "cell_type": "code",
   "execution_count": null,
   "id": "1d0560e4",
   "metadata": {},
   "outputs": [],
   "source": [
    "# Build a simple CNN model\n",
    "model = models.Sequential([\n",
    "    layers.Input(shape=(32, 32, 3)),\n",
    "    # The first convolutional layer has 32 filters, the second has 64, and the third has 128.\n",
    "    layers.Conv2D(32, (3, 3), activation='relu', padding='same'),\n",
    "    layers.MaxPooling2D((2, 2)),\n",
    "    layers.Conv2D(64, (3, 3), activation='relu', padding='same'),\n",
    "    layers.MaxPooling2D((2, 2)),\n",
    "    layers.Conv2D(128, (3, 3), activation='relu', padding='same'),\n",
    "    layers.Flatten(),\n",
    "    layers.Dense(64, activation='relu'),\n",
    "    layers.Dense(10, activation='softmax')\n",
    "])\n",
    "\n",
    "# Compile the model\n",
    "model.compile(optimizer='adam',\n",
    "              loss='sparse_categorical_crossentropy',\n",
    "              metrics=['accuracy'])\n",
    "\n",
    "# Train the model and save history\n",
    "history = model.fit(x_train, y_train, epochs=10, \n",
    "                    validation_data=(x_test, y_test), batch_size=64)\n",
    "\n",
    "# Evaluate on test set\n",
    "test_loss, test_acc = model.evaluate(x_test, y_test, verbose=2)\n",
    "print(f'Test accuracy: {test_acc:.3f}')\n",
    "\n",
    "# Plot training history\n",
    "plt.figure(figsize=(10,4))\n",
    "plt.subplot(1,2,1)\n",
    "plt.plot(history.history['accuracy'], label='Train acc')\n",
    "plt.plot(history.history['val_accuracy'], label='Val acc')\n",
    "plt.legend()\n",
    "plt.title('Accuracy')\n",
    "\n",
    "plt.subplot(1,2,2)\n",
    "plt.plot(history.history['loss'], label='Train loss')\n",
    "plt.plot(history.history['val_loss'], label='Val loss')\n",
    "plt.legend()\n",
    "plt.title('Loss')\n",
    "\n",
    "plt.show()\n"
   ]
  }
 ],
 "metadata": {
  "kernelspec": {
   "display_name": "MLvenv",
   "language": "python",
   "name": "python3"
  },
  "language_info": {
   "codemirror_mode": {
    "name": "ipython",
    "version": 3
   },
   "file_extension": ".py",
   "mimetype": "text/x-python",
   "name": "python",
   "nbconvert_exporter": "python",
   "pygments_lexer": "ipython3",
   "version": "3.11.0"
  }
 },
 "nbformat": 4,
 "nbformat_minor": 5
}
