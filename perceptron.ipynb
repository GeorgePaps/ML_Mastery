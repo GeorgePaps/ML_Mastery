{
 "cells": [
  {
   "cell_type": "code",
   "execution_count": 1,
   "id": "c4ffd4ad",
   "metadata": {},
   "outputs": [],
   "source": [
    "import perceptron\n",
    "perceptronA = perceptron.Perceptron()"
   ]
  },
  {
   "cell_type": "code",
   "execution_count": null,
   "id": "103a1b33",
   "metadata": {},
   "outputs": [],
   "source": [
    "perceptronA.train([1, 0, 1], [0, 1, 0])"
   ]
  }
 ],
 "metadata": {
  "kernelspec": {
   "display_name": "MLvenv",
   "language": "python",
   "name": "python3"
  },
  "language_info": {
   "codemirror_mode": {
    "name": "ipython",
    "version": 3
   },
   "file_extension": ".py",
   "mimetype": "text/x-python",
   "name": "python",
   "nbconvert_exporter": "python",
   "pygments_lexer": "ipython3",
   "version": "3.11.0"
  }
 },
 "nbformat": 4,
 "nbformat_minor": 5
}
